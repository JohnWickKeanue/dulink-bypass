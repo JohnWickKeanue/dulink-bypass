{
  "nbformat": 4,
  "nbformat_minor": 0,
  "metadata": {
    "colab": {
      "provenance": [],
      "authorship_tag": "ABX9TyNlWDzh6TOtmwyOd5JONUm5",
      "include_colab_link": true
    },
    "kernelspec": {
      "name": "python3",
      "display_name": "Python 3"
    },
    "language_info": {
      "name": "python"
    }
  },
  "cells": [
    {
      "cell_type": "markdown",
      "metadata": {
        "id": "view-in-github",
        "colab_type": "text"
      },
      "source": [
        "<a href=\"https://colab.research.google.com/github/JohnWickKeanue/dulink-bypass/blob/main/dulink.ipynb\" target=\"_parent\"><img src=\"https://colab.research.google.com/assets/colab-badge.svg\" alt=\"Open In Colab\"/></a>"
      ]
    },
    {
      "cell_type": "code",
      "execution_count": null,
      "metadata": {
        "id": "e57X2UpCldJM"
      },
      "outputs": [],
      "source": [
        "! pip install cloudscraper\n",
        "import time\n",
        "import cloudscraper\n",
        "from bs4 import BeautifulSoup \n",
        "\n",
        "url = \"https://dulink.in/ehkcP\"  #@param {type:\"string\"}\n",
        "\n",
        "\n",
        " \n",
        "\n",
        "# ---------------------------------------------------------------------------------------------------------------------\n",
        "\n",
        "def bypass(url):\n",
        "    client = cloudscraper.create_scraper(allow_brotli=False)\n",
        "   \n",
        "    DOMAIN = \"https://cac.teckypress.in/\"\n",
        "\n",
        "    url = url[:-1] if url[-1] == '/' else url\n",
        "\n",
        "    code = url.split(\"/\")[-1]\n",
        "    \n",
        "    \n",
        "    final_url = f\"{DOMAIN}/{code}\"\n",
        "    \n",
        "    ref = \"https://teckypress.in/\"\n",
        "    \n",
        "    h = {\"referer\": ref}\n",
        "\n",
        "    resp = client.get(final_url, headers=h)\n",
        "    soup = BeautifulSoup(resp.content, \"html.parser\")\n",
        "    \n",
        "    inputs = soup.find_all(\"input\")\n",
        "    \n",
        "    data = { input.get('name'): input.get('value') for input in inputs }\n",
        "\n",
        "    h = { \"x-requested-with\": \"XMLHttpRequest\" }\n",
        "    \n",
        "    \n",
        "    r = client.post(f\"{DOMAIN}/links/go\", data=data, headers=h)\n",
        "    try:\n",
        "        return r.json()['url']\n",
        "    except: return \"Something went wrong :(\"\n",
        "\n",
        "# ---------------------------------------------------------------------------------------------------------------------\n",
        "\n",
        "print(bypass(url))"
      ]
    }
  ]
}